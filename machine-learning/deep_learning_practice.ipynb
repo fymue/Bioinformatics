{
  "cells": [
    {
      "cell_type": "code",
      "execution_count": 1,
      "metadata": {
        "id": "y0eZ_NwfVhkE"
      },
      "outputs": [],
      "source": [
        "import tensorflow as tf\n",
        "import numpy as np\n",
        "import matplotlib.pyplot as plt\n",
        "import pandas as pd\n",
        "\n",
        "from tensorflow.keras import layers\n",
        "from sklearn.utils import class_weight\n",
        "\n",
        "tf.compat.v1.enable_eager_execution()\n",
        "\n",
        "loss_func = tf.keras.losses.SparseCategoricalCrossentropy(from_logits=True) "
      ]
    },
    {
      "cell_type": "markdown",
      "metadata": {
        "id": "m_4jd55_Vhj9"
      },
      "source": [
        "MNIST"
      ]
    },
    {
      "cell_type": "markdown",
      "metadata": {
        "id": "LKv3js0ZVhkL"
      },
      "source": [
        "1. MLP"
      ]
    },
    {
      "cell_type": "code",
      "execution_count": 2,
      "metadata": {},
      "outputs": [],
      "source": [
        "mnist = tf.keras.datasets.mnist\n",
        "\n",
        "#laden des MNIST Datensatz (Trainingsdaten und Validierungsdaten)\n",
        "(x_train, y_train), (x_val, y_val) = mnist.load_data()\n",
        "x_train, x_val = x_train / 255.0, x_val / 255.0"
      ]
    },
    {
      "cell_type": "code",
      "execution_count": 3,
      "metadata": {
        "colab": {
          "base_uri": "https://localhost:8080/"
        },
        "id": "1yps0CFNVhkO",
        "outputId": "49f6b6b3-2e1d-4014-dfad-61f29740f289"
      },
      "outputs": [
        {
          "name": "stdout",
          "output_type": "stream",
          "text": [
            "10000/1 - 2s - loss: 0.0482 - acc: 0.9761\n"
          ]
        },
        {
          "data": {
            "text/plain": [
              "[0.09627766095803526, 0.97609997]"
            ]
          },
          "execution_count": 3,
          "metadata": {},
          "output_type": "execute_result"
        }
      ],
      "source": [
        "# Bauen eines MLP mit einem Inputlayer, 3 Hidden Layers und einem Output Layer\n",
        "# Für jeden Pixel der Bilder (28x28) gibt es ein Input Neuron\n",
        "# für jeden Output, der vorhergesagt werden soll (0-9), gibt es ein Output Neuron\n",
        "\n",
        "model = tf.keras.models.Sequential([\n",
        "        layers.Flatten(input_shape=(28, 28)),\n",
        "        layers.Dense(256, activation=\"relu\"),\n",
        "        layers.Dense(128, activation=\"relu\"),\n",
        "        layers.Dense(64, activation=\"relu\"),\n",
        "        layers.Dense(32, activation=\"relu\"),\n",
        "        layers.Dense(10)])\n",
        "\n",
        "# Bei der Beispiel-Forward-Berechnung sollte der Tensor in ein\n",
        "# Numpy-Array umgewandelt werden und der Output in\n",
        "# die softmax-Funktion gegeben werden,\n",
        "# da so die Output-Werte normalisiert werden\n",
        "# (geschieht im Training des Models automatisch)\n",
        "\n",
        "bsp_preds = tf.nn.softmax(model(x_train[:1]).numpy()).numpy()\n",
        "\n",
        "# kompiliere das Model\n",
        "model.compile(optimizer=\"adam\", loss=loss_func, metrics=[\"accuracy\"])\n",
        "\n",
        "# trainiere das Model auf den Trainingsdaten (10 Epochen)\n",
        "model.fit(x_train, y_train, epochs=10, batch_size=256, validation_split=0.1, verbose=0)\n",
        "\n",
        "# bestimme die Genauigkeit des Models anhand der Validierungsdaten\n",
        "model.evaluate(x_val, y_val, verbose=2)"
      ]
    },
    {
      "cell_type": "markdown",
      "metadata": {
        "id": "4uS_KT5tVhkR"
      },
      "source": [
        "2. CNN"
      ]
    },
    {
      "cell_type": "code",
      "execution_count": 4,
      "metadata": {
        "colab": {
          "base_uri": "https://localhost:8080/"
        },
        "id": "VePlz90SVhkT",
        "outputId": "dcd37613-09a8-4653-c098-84ca5375db15"
      },
      "outputs": [
        {
          "name": "stdout",
          "output_type": "stream",
          "text": [
            "10000/1 - 2s - loss: 0.0156 - acc: 0.9891\n"
          ]
        },
        {
          "data": {
            "text/plain": [
              "[0.030290156397875398, 0.9891]"
            ]
          },
          "execution_count": 4,
          "metadata": {},
          "output_type": "execute_result"
        }
      ],
      "source": [
        "cnn_model = tf.keras.models.Sequential()\n",
        "\n",
        "x_train, x_val = x_train.reshape(-1, 28, 28, 1), x_val.reshape(-1, 28, 28, 1)\n",
        "\n",
        "cnn_model.add(layers.Conv2D(32, (3, 3), activation=\"relu\", padding=\"same\", input_shape=(28, 28, 1)))\n",
        "cnn_model.add(layers.MaxPooling2D((2, 2)))\n",
        "cnn_model.add(layers.Conv2D(64, (3, 3), activation=\"relu\", padding=\"same\"))\n",
        "cnn_model.add(layers.MaxPooling2D((2, 2)))\n",
        "\n",
        "# MLP Klassifizierer bauen\n",
        "cnn_model.add(layers.Flatten())\n",
        "cnn_model.add(layers.Dense(64, activation=\"sigmoid\"))\n",
        "cnn_model.add(layers.Dense(10))\n",
        "\n",
        "cnn_model.compile(optimizer=\"adam\", loss=loss_func, metrics=[\"accuracy\"])\n",
        "cnn_model.fit(x_train, y_train, batch_size=64, validation_split=0.1, epochs=5, verbose=0)\n",
        "\n",
        "cnn_model.evaluate(x_val, y_val, verbose=2)"
      ]
    },
    {
      "cell_type": "markdown",
      "metadata": {
        "id": "-ILDF4apVhkV"
      },
      "source": [
        "Fashion-MNIST"
      ]
    },
    {
      "cell_type": "code",
      "execution_count": 6,
      "metadata": {
        "id": "-qhhs6rQVhkX"
      },
      "outputs": [
        {
          "name": "stdout",
          "output_type": "stream",
          "text": [
            "10000/1 - 2s - loss: 0.2712 - acc: 0.8791\n",
            "10000/1 - 2s - loss: 0.1995 - acc: 0.9128\n"
          ]
        },
        {
          "data": {
            "text/plain": [
              "[0.24748996720910071, 0.91279995]"
            ]
          },
          "execution_count": 6,
          "metadata": {},
          "output_type": "execute_result"
        }
      ],
      "source": [
        "fashion_mnist = tf.keras.datasets.fashion_mnist\n",
        "\n",
        "class_names = [\"T-shirt/top\", \"Trouser\", \"Pullover\", \"Dress\", \"Coat\",\n",
        "               \"Sandal\", \"Shirt\", \"Sneaker\", \"Bag\", \"Ankle boot\"]\n",
        "\n",
        "(x_train, y_train), (x_val, y_val) = fashion_mnist.load_data()\n",
        "\n",
        "x_train, x_val = x_train / 255.0, x_val / 255.0\n",
        "\n",
        "model.fit(x_train, y_train, epochs=10, batch_size=256, verbose=0)\n",
        "model.evaluate(x_val, y_val, verbose=2)\n",
        "\n",
        "cnn_model.fit(x_train.reshape(-1, 28, 28, 1), y_train, epochs=5, batch_size=128, verbose=0)\n",
        "cnn_model.evaluate(x_val.reshape(-1, 28, 28, 1), y_val, verbose=2)"
      ]
    },
    {
      "cell_type": "markdown",
      "metadata": {
        "id": "Ky0DjRd_70L5"
      },
      "source": [
        "Spiral data prediction"
      ]
    },
    {
      "cell_type": "code",
      "execution_count": 8,
      "metadata": {},
      "outputs": [],
      "source": [
        "# lade die Trainings- und Testdaten\n",
        "train_data = np.genfromtxt(\"data/spirals.trn.csv\", delimiter=\",\", skip_header=1, dtype=np.str)\n",
        "val_data = np.genfromtxt(\"data/spirals.vld.csv\", delimiter=\",\", skip_header=1, dtype=np.str)\n",
        "\n",
        "# Zeilen, die zur blauen Spirale gehören\n",
        "blue_train_indices = train_data[:,2] == \"blue\"\n",
        "blue_val_indices = val_data[:,2] == \"blue\"\n",
        "\n",
        "# Umwandeln der Daten in Floats\n",
        "x_train = train_data[:, :2].astype(np.float32)\n",
        "y_train = blue_train_indices.astype(np.int16)\n",
        "\n",
        "x_val = val_data[:, :2].astype(np.float32)\n",
        "y_val = blue_val_indices.astype(np.int16)"
      ]
    },
    {
      "cell_type": "code",
      "execution_count": 9,
      "metadata": {
        "colab": {
          "base_uri": "https://localhost:8080/",
          "height": 387
        },
        "id": "Er8nBMJR73cb",
        "outputId": "2877f9e6-8911-43d6-a6c7-792ba1168f49"
      },
      "outputs": [
        {
          "name": "stdout",
          "output_type": "stream",
          "text": [
            "30/1 - 0s - loss: 0.0014 - acc: 1.0000\n"
          ]
        }
      ],
      "source": [
        "# baue das MLP\n",
        "model = tf.keras.models.Sequential()\n",
        "model.add(layers.Dense(2048, activation=\"relu\", input_shape=(2,))) # 2 Input-Neuronen (für x und y Koordinate)\n",
        "model.add(layers.GaussianNoise(0.01)) # Verrausche die Daten (Noise)\n",
        "model.add(layers.Dense(1024, activation=\"relu\"))\n",
        "model.add(layers.Dropout(0.1)) # Deaktiviere einige Neuronen\n",
        "model.add(layers.Dense(512, activation=\"relu\"))\n",
        "model.add(layers.Dropout(0.1))\n",
        "model.add(layers.Dense(128, activation=\"relu\"))\n",
        "model.add(layers.Dropout(0.1))\n",
        "model.add(layers.Dense(2)) # 2 Output-Neurone (je 1 pro Spirale)\n",
        "\n",
        "# kompiliere das Model\n",
        "model.compile(optimizer=\"adam\", loss=loss_func, metrics=[\"accuracy\"])\n",
        "\n",
        "# trainiere das Model auf den Trainingsdaten\n",
        "model.fit(x_train, y_train, epochs=500, batch_size=32, verbose=0)\n",
        "model.evaluate(x_val, y_val, verbose=2)\n",
        "\n",
        "# erzeuge die Vorhersagen des Models\n",
        "# (==ob die jeweilige Koordinate zur blauen oder roten Spirale gehört)\n",
        "preds = np.argmax(model.predict(x_val), axis=1).astype(bool)"
      ]
    },
    {
      "cell_type": "code",
      "execution_count": 11,
      "metadata": {},
      "outputs": [
        {
          "name": "stdout",
          "output_type": "stream",
          "text": [
            "30/1 - 0s - loss: 4.7371e-04 - acc: 1.0000\n"
          ]
        }
      ],
      "source": [
        "# Ähnliches MLP, hier allerdings mit einem Output-Neuron mit Sigmoid-Aktivierung,\n",
        "# welches entweder 1 (\"blaue Spirale\") oder 0 (\"rote Spirale\") ausgibt\n",
        "\n",
        "model = tf.keras.models.Sequential()\n",
        "model.add(layers.Dense(2560, activation='relu', input_shape=(2,)))\n",
        "model.add(layers.GaussianNoise(0.01)) # add noise (regularization)\n",
        "model.add(layers.Dense(1280, activation='relu'))\n",
        "model.add(layers.Dropout(0.1)) # disable some neurons (regularization)\n",
        "model.add(layers.Dense(640, activation='relu'))\n",
        "model.add(layers.Dropout(0.1)) # disable some neurons (regularization)\n",
        "model.add(layers.Dense(80, activation='relu'))\n",
        "model.add(layers.Dropout(0.1)) # disable some neurons (regularization)\n",
        "model.add(layers.Dense(1, activation='sigmoid')) # hier stattdessen 1 Output-Neuron (0 == rot, 1 == blau)\n",
        "\n",
        "# binary_crossentropy als Loss-Funktion, da nur 1 Output-Neuron existiert (2 Klassen)\n",
        "model.compile(loss='binary_crossentropy', optimizer=\"adam\", metrics=['accuracy'])\n",
        "\n",
        "model.fit(x_train, y_train, batch_size=32, epochs=500, verbose=0)\n",
        "model.evaluate(x_val, y_val, verbose=2)\n",
        "\n",
        "preds = model.predict_classes(x_val).flatten().astype(bool)"
      ]
    },
    {
      "cell_type": "code",
      "execution_count": 12,
      "metadata": {},
      "outputs": [
        {
          "data": {
            "image/png": "[encoded data removed]",
            "text/plain": [
              "<Figure size 432x288 with 1 Axes>"
            ]
          },
          "metadata": {
            "needs_background": "light"
          },
          "output_type": "display_data"
        }
      ],
      "source": [
        "# Plotten der Predictions des MLP\n",
        "x_train_blue = x_train[blue_train_indices]\n",
        "x_train_red = x_train[~blue_train_indices]\n",
        "\n",
        "x_val_blue = x_val[preds]\n",
        "x_val_red = x_val[~preds]\n",
        "\n",
        "# Plotten der Results als Contour-Plot\n",
        "xx = np.linspace(-1, 1, 200)\n",
        "yy = np.linspace(-1, 1, 200)\n",
        "gx, gy = np.meshgrid(xx, yy)\n",
        "Z = model.predict_classes(np.c_[gx.ravel(), gy.ravel()]).flatten().astype(bool)\n",
        "Z = Z.reshape(gx.shape)\n",
        "plt.contourf(gx, gy, Z, cmap=plt.cm.coolwarm_r, alpha=0.8)\n",
        "\n",
        "plt.grid(\"off\")\n",
        "plt.xlabel(\"x\")\n",
        "plt.ylabel(\"y\")\n",
        "\n",
        "plt.scatter(x_train_blue[:, 0], x_train_blue[:, 1], c=\"blue\")\n",
        "plt.scatter(x_train_red[:, 0], x_train_red[:, 1], c=\"red\")\n",
        "plt.scatter(x_val_blue[:, 0], x_val_blue[:, 1], c=\"deepskyblue\", label=\"Prediction blau\")\n",
        "plt.scatter(x_val_red[:, 0], x_val_red[:, 1], c=\"darkred\", label=\"Prediction rot\")\n",
        "plt.legend(loc=\"best\")\n",
        "plt.title(\"Vorhersage des Models\")\n",
        "plt.show()"
      ]
    },
    {
      "cell_type": "markdown",
      "metadata": {},
      "source": [
        "Gene expression analysis using single-cell RNASeq data"
      ]
    },
    {
      "cell_type": "code",
      "execution_count": 14,
      "metadata": {},
      "outputs": [],
      "source": [
        "# lade die Trainings- und Testdaten\n",
        "\n",
        "# data taken from https://www.ncbi.nlm.nih.gov/geo/query/acc.cgi?acc=GSE158699 (not in repo)\n",
        "\n",
        "data = pd.read_csv(\"data/GSE158699_gene_TMM_counts.csv\", delimiter=\",\")\n",
        "data = data.drop(data.columns[0], axis=1).astype(np.float32) # Gene-IDs entfernen\n",
        "\n",
        "metadata = pd.read_csv(\"data/GSE158699_phenotype_data_9.20.20.csv\", delimiter=\",\",\n",
        "                       usecols=[\"GEO_id\", \"SmokCigNow\", \"ATS_PackYears\" ,\"data_split\"]).dropna()\n",
        "\n",
        "metadata.SmokCigNow = metadata.SmokCigNow.astype(np.int16) # Umwandeln in Ints (1 oder 0)\n",
        "\n",
        "# Rausfiltern der IDs (Spalten), die nicht in beiden Files vorhanden sind\n",
        "genes_in_metadata = set(metadata.GEO_id) \n",
        "rows_to_discard = [i for i, gene in enumerate(data.columns) if gene not in genes_in_metadata]\n",
        "\n",
        "# Entfernen der Spalten, die nur im ersten Datensatz vorliegen\n",
        "data = data.drop(data.columns[rows_to_discard], axis=1)\n",
        "\n",
        "# Aufteilen der Daten in Trainings,- Validierungs,- und Testdaten\n",
        "# Vorhesage nach Merkmal \"SmokSigNow\"\n",
        "train = metadata.loc[metadata[\"data_split\"] == \"training\", [\"GEO_id\", \"SmokCigNow\"]]\n",
        "validation = metadata.loc[metadata[\"data_split\"] == \"validation\", [\"GEO_id\", \"SmokCigNow\"]]\n",
        "test = metadata.loc[metadata[\"data_split\"] == \"test\", [\"GEO_id\", \"SmokCigNow\"]]\n",
        "\n",
        "x_train = data.loc[:, train.GEO_id].T.to_numpy()\n",
        "y_train = train.SmokCigNow.values\n",
        "\n",
        "x_val = data.loc[:, validation.GEO_id].T.to_numpy()\n",
        "y_val = validation.SmokCigNow.values\n",
        "\n",
        "x_test = data.loc[:, test.GEO_id].T.to_numpy()\n",
        "y_test = test.SmokCigNow.values"
      ]
    },
    {
      "cell_type": "code",
      "execution_count": 15,
      "metadata": {},
      "outputs": [],
      "source": [
        "class FeatureSelectionLayer(layers.Layer):\n",
        "    # Custom Layer (1-zu-1 Verknüpfung zum nächsten Layer)\n",
        "    def __init__(self, *args, **kwargs):\n",
        "        super().__init__(*args, **kwargs)\n",
        "    \n",
        "    def build(self, input_shape):\n",
        "        self.kernel = self.add_weight(\"kernel\", shape=(int(input_shape[-1]),))\n",
        "    \n",
        "    def call(self, inputs):\n",
        "        return tf.multiply(inputs, self.kernel)"
      ]
    },
    {
      "cell_type": "code",
      "execution_count": 17,
      "metadata": {},
      "outputs": [
        {
          "name": "stdout",
          "output_type": "stream",
          "text": [
            "513/1 - 0s - loss: 0.2257 - acc: 0.8558\n"
          ]
        },
        {
          "data": {
            "text/plain": [
              "[0.37251251549632464, 0.8557505]"
            ]
          },
          "execution_count": 17,
          "metadata": {},
          "output_type": "execute_result"
        }
      ],
      "source": [
        "model = tf.keras.models.Sequential()\n",
        "model.add(layers.InputLayer(input_shape=(18487,)))\n",
        "model.add(layers.GaussianNoise(0.1))\n",
        "model.add(FeatureSelectionLayer(256)) # Feature Selection Layer (1-zu-1 Verknüpfung zum nächsten Layer)\n",
        "model.add(layers.Dropout(0.1)) # Ausschalten einiger Neuronen (Regularization)\n",
        "model.add(FeatureSelectionLayer(64))\n",
        "model.add(layers.Dropout(0.1)) \n",
        "model.add(FeatureSelectionLayer(8))\n",
        "model.add(layers.Dropout(0.1))\n",
        "model.add(layers.Dense(1, activation=\"sigmoid\"))\n",
        "\n",
        "# Balancieren der Trainings(klassen)daten\n",
        "class_weights = dict(enumerate(class_weight.compute_class_weight\n",
        "                (\"balanced\", classes=np.unique(y_train), y=y_train)))\n",
        "\n",
        "model.compile(optimizer=\"adam\", loss=\"binary_crossentropy\", metrics=[\"accuracy\"])\n",
        "model.fit(x_train, y_train, batch_size=64, validation_data=(x_val, y_val), \n",
        "          epochs=20, verbose=0, class_weight=class_weights)\n",
        "model.evaluate(x_test, y_test, verbose=2)"
      ]
    }
  ],
  "metadata": {
    "colab": {
      "collapsed_sections": [],
      "name": "uebung1.ipynb",
      "provenance": []
    },
    "kernelspec": {
      "display_name": "Python 3.6.13 ('uebungen': conda)",
      "language": "python",
      "name": "python3"
    },
    "language_info": {
      "codemirror_mode": {
        "name": "ipython",
        "version": 3
      },
      "file_extension": ".py",
      "mimetype": "text/x-python",
      "name": "python",
      "nbconvert_exporter": "python",
      "pygments_lexer": "ipython3",
      "version": "3.6.13"
    },
    "orig_nbformat": 4,
    "vscode": {
      "interpreter": {
        "hash": "bb168e50be9b30811cf908dcb488e1a00d1b4eb12db2050c87ebe6de191027ca"
      }
    }
  },
  "nbformat": 4,
  "nbformat_minor": 0
}
